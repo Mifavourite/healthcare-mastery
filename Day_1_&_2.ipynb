{
  "nbformat": 4,
  "nbformat_minor": 0,
  "metadata": {
    "colab": {
      "provenance": []
    },
    "kernelspec": {
      "name": "python3",
      "display_name": "Python 3"
    },
    "language_info": {
      "name": "python"
    }
  },
  "cells": [
    {
      "cell_type": "markdown",
      "source": [],
      "metadata": {
        "id": "50FXg2DYrqTL"
      }
    },
    {
      "cell_type": "code",
      "source": [
        "print(\"Hello, Healthcare!\")\n",
        "name = \"Lordsfavour Anukam\"\n",
        "print(\"My name is\", name)\n"
      ],
      "metadata": {
        "colab": {
          "base_uri": "https://localhost:8080/"
        },
        "id": "lY12DzyjrsaE",
        "outputId": "467ed288-c6f8-413d-c851-1325cf24eb74"
      },
      "execution_count": 7,
      "outputs": [
        {
          "output_type": "stream",
          "name": "stdout",
          "text": [
            "Hello, Healthcare!\n",
            "My name is Lordsfavour Anukam\n"
          ]
        }
      ]
    },
    {
      "cell_type": "code",
      "execution_count": null,
      "metadata": {
        "colab": {
          "base_uri": "https://localhost:8080/"
        },
        "id": "Yy8zK6OpPdzh",
        "outputId": "a2788a2a-1632-42f0-98cd-cdd6da3e5334"
      },
      "outputs": [
        {
          "output_type": "stream",
          "name": "stdout",
          "text": [
            "First 5 rows of the dataset:\n",
            "   Patient_ID  Age  Gender        BMI  Blood_Pressure  Cholesterol Smoking  \\\n",
            "0           1   56  Female  30.610425             125          293      No   \n",
            "1           2   69  Female  33.453596             127          291      No   \n",
            "2           3   46  Female  21.495626             173          264      No   \n",
            "3           4   32  Female  31.494974             178          292     Yes   \n",
            "4           5   60    Male  30.106583             114          241      No   \n",
            "\n",
            "  Diabetes  \n",
            "0       No  \n",
            "1      Yes  \n",
            "2      Yes  \n",
            "3       No  \n",
            "4       No  \n",
            "\n",
            "Missing Values:\n",
            "Patient_ID        0\n",
            "Age               0\n",
            "Gender            0\n",
            "BMI               0\n",
            "Blood_Pressure    0\n",
            "Cholesterol       0\n",
            "Smoking           0\n",
            "Diabetes          0\n",
            "dtype: int64\n",
            "\n",
            "Summary Statistics:\n",
            "       Patient_ID         Age      Gender         BMI  Blood_Pressure  \\\n",
            "count  100.000000  100.000000  100.000000  100.000000      100.000000   \n",
            "mean    50.500000   50.270000    0.580000   29.515449      130.580000   \n",
            "std     29.011492   19.176403    0.496045    5.996392       22.713045   \n",
            "min      1.000000   19.000000    0.000000   18.511188       91.000000   \n",
            "25%     25.750000   34.750000    0.000000   24.203801      113.000000   \n",
            "50%     50.500000   51.500000    1.000000   29.619663      127.000000   \n",
            "75%     75.250000   68.000000    1.000000   33.795741      148.250000   \n",
            "max    100.000000   79.000000    1.000000   39.951420      179.000000   \n",
            "\n",
            "       Cholesterol    Smoking    Diabetes  \n",
            "count   100.000000  100.00000  100.000000  \n",
            "mean    227.930000    0.57000    0.540000  \n",
            "std      43.800801    0.49757    0.500908  \n",
            "min     150.000000    0.00000    0.000000  \n",
            "25%     196.750000    0.00000    0.000000  \n",
            "50%     234.500000    1.00000    1.000000  \n",
            "75%     265.250000    1.00000    1.000000  \n",
            "max     299.000000    1.00000    1.000000  \n",
            "\n",
            "Classification Report:\n",
            "              precision    recall  f1-score   support\n",
            "\n",
            "           0       0.40      0.18      0.25        11\n",
            "           1       0.40      0.67      0.50         9\n",
            "\n",
            "    accuracy                           0.40        20\n",
            "   macro avg       0.40      0.42      0.38        20\n",
            "weighted avg       0.40      0.40      0.36        20\n",
            "\n",
            "\n",
            "Cleaned dataset saved as 'cleaned_health_data.csv'\n",
            "\n",
            "Summary of Findings:\n",
            "- The dataset contains 100 patients with features like Age, BMI, and Diabetes status.\n",
            "- Key visualizations include Age distribution, BMI vs. Diabetes, and a correlation matrix.\n",
            "- A Random Forest model was trained to predict Diabetes with the given features.\n",
            "- Check saved plots: correlation_matrix.png, age_distribution.png, bmi_vs_diabetes.png, confusion_matrix.png, feature_importance.png\n"
          ]
        }
      ],
      "source": [
        "# Import necessary libraries\n",
        "import pandas as pd\n",
        "import numpy as np\n",
        "import matplotlib.pyplot as plt\n",
        "import seaborn as sns\n",
        "from sklearn.model_selection import train_test_split\n",
        "from sklearn.ensemble import RandomForestClassifier\n",
        "from sklearn.metrics import classification_report, confusion_matrix\n",
        "import warnings\n",
        "warnings.filterwarnings('ignore')\n",
        "\n",
        "np.random.seed(42)\n",
        "\n",
        "data = {\n",
        "    'Patient_ID': range(1, 101),\n",
        "    'Age': np.random.randint(18, 80, 100),\n",
        "    'Gender': np.random.choice(['Male', 'Female'], 100),\n",
        "    'BMI': np.random.uniform(18.5, 40, 100),\n",
        "    'Blood_Pressure': np.random.randint(90, 180, 100),\n",
        "    'Cholesterol': np.random.randint(150, 300, 100),\n",
        "    'Smoking': np.random.choice(['Yes', 'No'], 100),\n",
        "    'Diabetes': np.random.choice(['Yes', 'No'], 100)\n",
        "}\n",
        "df = pd.DataFrame(data)\n",
        "\n",
        "# Display first few rows\n",
        "print(\"First 5 rows of the dataset:\")\n",
        "print(df.head())\n",
        "\n",
        "# Step 2: Data Cleaning\n",
        "# Check for missing values\n",
        "print(\"\\nMissing Values:\")\n",
        "print(df.isnull().sum())\n",
        "\n",
        "# Drop rows with missing values (if any)\n",
        "df = df.dropna()\n",
        "\n",
        "# Convert categorical variables to numeric\n",
        "df['Gender'] = df['Gender'].map({'Male': 1, 'Female': 0})\n",
        "df['Smoking'] = df['Smoking'].map({'Yes': 1, 'No': 0})\n",
        "df['Diabetes'] = df['Diabetes'].map({'Yes': 1, 'No': 0})\n",
        "\n",
        "# Remove outliers (e.g., BMI > 50 or < 10)\n",
        "df = df[(df['BMI'] >= 10) & (df['BMI'] <= 50)]\n",
        "\n",
        "# Step 3: Exploratory Data Analysis (EDA)\n",
        "# Summary statistics\n",
        "print(\"\\nSummary Statistics:\")\n",
        "print(df.describe())\n",
        "\n",
        "# Correlation matrix\n",
        "plt.figure(figsize=(10, 6))\n",
        "sns.heatmap(df.corr(), annot=True, cmap='coolwarm', fmt='.2f')\n",
        "plt.title('Correlation Matrix')\n",
        "plt.savefig('correlation_matrix.png')\n",
        "plt.close()\n",
        "\n",
        "# Distribution of Age\n",
        "plt.figure(figsize=(8, 5))\n",
        "sns.histplot(df['Age'], bins=20, kde=True)\n",
        "plt.title('Age Distribution')\n",
        "plt.xlabel('Age')\n",
        "plt.ylabel('Count')\n",
        "plt.savefig('age_distribution.png')\n",
        "plt.close()\n",
        "\n",
        "# BMI vs. Diabetes\n",
        "plt.figure(figsize=(8, 5))\n",
        "sns.boxplot(x='Diabetes', y='BMI', data=df)\n",
        "plt.title('BMI vs. Diabetes Status')\n",
        "plt.savefig('bmi_vs_diabetes.png')\n",
        "plt.close()\n",
        "\n",
        "\n",
        "# Predict Diabetes based on other features\n",
        "X = df[['Age', 'Gender', 'BMI', 'Blood_Pressure', 'Cholesterol', 'Smoking']]\n",
        "y = df['Diabetes']\n",
        "\n",
        "# Split the data\n",
        "X_train, X_test, y_train, y_test = train_test_split(X, y, test_size=0.2, random_state=42)\n",
        "\n",
        "# Train a Random Forest Classifier\n",
        "model = RandomForestClassifier(n_estimators=100, random_state=42)\n",
        "model.fit(X_train, y_train)\n",
        "\n",
        "# Make predictions\n",
        "y_pred = model.predict(X_test)\n",
        "\n",
        "# Evaluate the model\n",
        "print(\"\\nClassification Report:\")\n",
        "print(classification_report(y_test, y_pred))\n",
        "\n",
        "# Confusion Matrix\n",
        "cm = confusion_matrix(y_test, y_pred)\n",
        "plt.figure(figsize=(6, 4))\n",
        "sns.heatmap(cm, annot=True, fmt='d', cmap='Blues')\n",
        "plt.title('Confusion Matrix')\n",
        "plt.xlabel('Predicted')\n",
        "plt.ylabel('Actual')\n",
        "plt.savefig('confusion_matrix.png')\n",
        "plt.close()\n",
        "\n",
        "# Feature Importance\n",
        "feature_importance = pd.DataFrame({\n",
        "    'Feature': X.columns,\n",
        "    'Importance': model.feature_importances_\n",
        "}).sort_values('Importance', ascending=False)\n",
        "\n",
        "plt.figure(figsize=(8, 5))\n",
        "sns.barplot(x='Importance', y='Feature', data=feature_importance)\n",
        "plt.title('Feature Importance for Diabetes Prediction')\n",
        "plt.savefig('feature_importance.png')\n",
        "plt.close()\n",
        "\n",
        "# Step 5: Save the cleaned dataset\n",
        "df.to_csv('cleaned_health_data.csv', index=False)\n",
        "print(\"\\nCleaned dataset saved as 'cleaned_health_data.csv'\")\n",
        "\n",
        "# Step 6: Summary of Findings\n",
        "print(\"\\nSummary of Findings:\")\n",
        "print(\"- The dataset contains {} patients with features like Age, BMI, and Diabetes status.\".format(len(df)))\n",
        "print(\"- Key visualizations include Age distribution, BMI vs. Diabetes, and a correlation matrix.\")\n",
        "print(\"- A Random Forest model was trained to predict Diabetes with the given features.\")\n",
        "print(\"- Check saved plots: correlation_matrix.png, age_distribution.png, bmi_vs_diabetes.png, confusion_matrix.png, feature_importance.png\")"
      ]
    },
    {
      "cell_type": "markdown",
      "source": [
        "**EEG Calculator**"
      ],
      "metadata": {
        "id": "40NLKNLckrbY"
      }
    },
    {
      "cell_type": "code",
      "source": [
        "print(\"Calculating EEG Average for AI/ML/BCI, for Christ’s Glory!\")\n",
        "eeg1 = 10.0  # Your EEG amplitude 1 in μV\n",
        "eeg2 = 15.0  # Your EEG amplitude 2 in μV\n",
        "avg_eeg = (eeg1 + eeg2) / 2\n",
        "print(\"Patient: Dr. Lordsfavour Anukam\")\n",
        "print(\"EEG Amplitude 1 (μV):\", eeg1)\n",
        "print(\"EEG Amplitude 2 (μV):\", eeg2)\n",
        "print(\"Average EEG Amplitude (μV):\", avg_eeg)\n",
        "print(\"Healing for Jesus!\")\n",
        "\n"
      ],
      "metadata": {
        "colab": {
          "base_uri": "https://localhost:8080/"
        },
        "id": "ZQizS8sLlSdJ",
        "outputId": "6a73a949-8699-46be-e526-47f633d148cd"
      },
      "execution_count": 4,
      "outputs": [
        {
          "output_type": "stream",
          "name": "stdout",
          "text": [
            "Calculating EEG Average for AI/ML/BCI, for Christ’s Glory!\n",
            "Patient: Dr. Lordsfavour Anukam\n",
            "EEG Amplitude 1 (μV): 10.0\n",
            "EEG Amplitude 2 (μV): 15.0\n",
            "Average EEG Amplitude (μV): 12.5\n",
            "Healing for Jesus!\n"
          ]
        }
      ]
    }
  ]
}